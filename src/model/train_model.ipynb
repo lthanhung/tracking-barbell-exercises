{
 "cells": [
  {
   "cell_type": "code",
   "execution_count": 1,
   "metadata": {},
   "outputs": [],
   "source": [
    "import numpy as np\n",
    "import pandas as pd\n",
    "from sklearn.model_selection import train_test_split\n",
    "import matplotlib.pyplot as plt\n",
    "from LearningAlgorithms import ClassificationAlgorithms\n",
    "import seaborn as sns\n",
    "import itertools\n",
    "from sklearn.metrics import accuracy_score, precision_score, recall_score, f1_score, confusion_matrix"
   ]
  },
  {
   "cell_type": "markdown",
   "metadata": {},
   "source": [
    "# 1. Đọc file dữ liệu"
   ]
  },
  {
   "cell_type": "code",
   "execution_count": 2,
   "metadata": {},
   "outputs": [],
   "source": [
    "df = pd.read_pickle(\n",
    "    r\"D:\\Project1\\tracking-barbell-exercises\\data\\interim\\03_data_features.pkl\"\n",
    ")"
   ]
  },
  {
   "cell_type": "code",
   "execution_count": 3,
   "metadata": {},
   "outputs": [
    {
     "data": {
      "text/plain": [
       "Index(['acc_x', 'acc_y', 'acc_z', 'gyr_x', 'gyr_y', 'gyr_z', 'participant',\n",
       "       'label', 'category', 'set',\n",
       "       ...\n",
       "       'gyr_r_pse', 'gyr_r_freq_0.0_Hz_ws_16', 'gyr_r_freq_0.781_Hz_ws_16',\n",
       "       'gyr_r_freq_1.562_Hz_ws_16', 'gyr_r_freq_2.344_Hz_ws_16',\n",
       "       'gyr_r_freq_3.125_Hz_ws_16', 'gyr_r_freq_3.906_Hz_ws_16',\n",
       "       'gyr_r_freq_4.688_Hz_ws_16', 'gyr_r_freq_5.469_Hz_ws_16',\n",
       "       'gyr_r_freq_6.25_Hz_ws_16'],\n",
       "      dtype='object', length=127)"
      ]
     },
     "execution_count": 3,
     "metadata": {},
     "output_type": "execute_result"
    }
   ],
   "source": [
    "df.columns"
   ]
  },
  {
   "cell_type": "code",
   "execution_count": 4,
   "metadata": {},
   "outputs": [],
   "source": [
    "# Plot settings\n",
    "plt.style.use(\"fivethirtyeight\")\n",
    "plt.rcParams[\"figure.figsize\"] = (20, 5)\n",
    "plt.rcParams[\"figure.dpi\"] = 100\n",
    "plt.rcParams[\"lines.linewidth\"] = 2\n",
    "plt.rcParams[\"axes.facecolor\"] = 'white'  \n",
    "plt.rcParams[\"figure.facecolor\"] = 'white'"
   ]
  },
  {
   "cell_type": "markdown",
   "metadata": {},
   "source": [
    "# 2. Chia dữ liệu"
   ]
  },
  {
   "cell_type": "markdown",
   "metadata": {},
   "source": [
    "## 2.1. Chia tập huấn luyện và tập kiểm định"
   ]
  },
  {
   "cell_type": "code",
   "execution_count": 5,
   "metadata": {},
   "outputs": [
    {
     "data": {
      "image/png": "[encoded data removed]",
      "text/plain": [
       "<Figure size 1000x500 with 1 Axes>"
      ]
     },
     "metadata": {},
     "output_type": "display_data"
    }
   ],
   "source": [
    "df_train = df.drop([\"participant\", \"category\", \"set\"], axis=1)\n",
    "\n",
    "X = df_train.drop(\"label\", axis=1)\n",
    "y = df_train[\"label\"]\n",
    "\n",
    "X_train, X_test, y_train, y_test = train_test_split(\n",
    "    X, y, test_size=0.25, random_state=42, stratify=y\n",
    ")\n",
    "\n",
    "fig, ax = plt.subplots(figsize=(10, 5))\n",
    "df_train[\"label\"].value_counts().plot(\n",
    "    kind=\"bar\", ax=ax, color=\"lightblue\", label=\"Total\"\n",
    ")\n",
    "y_train.value_counts().plot(kind=\"bar\", ax=ax, color=\"dodgerblue\", label=\"Train\")\n",
    "y_test.value_counts().plot(kind=\"bar\", ax=ax, color=\"royalblue\", label=\"Test\")\n",
    "plt.legend()\n",
    "plt.show()"
   ]
  },
  {
   "cell_type": "code",
   "execution_count": 6,
   "metadata": {},
   "outputs": [
    {
     "name": "stdout",
     "output_type": "stream",
     "text": [
      "<class 'pandas.core.frame.DataFrame'>\n",
      "DatetimeIndex: 14446 entries, 2019-01-12 16:24:39 to 2019-01-19 17:12:36.440000\n",
      "Columns: 123 entries, acc_x to gyr_r_freq_6.25_Hz_ws_16\n",
      "dtypes: float64(123)\n",
      "memory usage: 13.7 MB\n"
     ]
    }
   ],
   "source": [
    "X_train.info()"
   ]
  },
  {
   "cell_type": "markdown",
   "metadata": {},
   "source": [
    "## 2.2. Chia tập đặc trưng"
   ]
  },
  {
   "cell_type": "code",
   "execution_count": 7,
   "metadata": {},
   "outputs": [
    {
     "name": "stdout",
     "output_type": "stream",
     "text": [
      "Basic features: 6\n",
      "Square features: 2\n",
      "PCA features: 3\n",
      "Time features: 16\n",
      "Frequency features: 96\n"
     ]
    }
   ],
   "source": [
    "basic_features = [\"acc_x\", \"acc_y\", \"acc_z\", \"gyr_x\", \"gyr_y\", \"gyr_z\"]\n",
    "square_features = [\"acc_r\", \"gyr_r\"]\n",
    "pca_features = [\"pc_1\", \"pc_2\", \"pc_3\"]\n",
    "time_features = [f for f in df_train.columns if \"_temp_\" in f]\n",
    "freq_features = [f for f in df_train.columns if (\"_freq\" in f) or (\"_pse\" in f)]\n",
    "\n",
    "print(\"Basic features:\", len(basic_features))\n",
    "print(\"Square features:\", len(square_features))\n",
    "print(\"PCA features:\", len(pca_features))\n",
    "print(\"Time features:\", len(time_features))\n",
    "print(\"Frequency features:\", len(freq_features))\n",
    "\n",
    "feature_set_1 = list(set(basic_features))\n",
    "feature_set_2 = list(set(basic_features + square_features + pca_features + time_features + freq_features))"
   ]
  },
  {
   "cell_type": "markdown",
   "metadata": {},
   "source": [
    "## 2.3 Lựa chọn đặc trưng"
   ]
  },
  {
   "cell_type": "code",
   "execution_count": 58,
   "metadata": {},
   "outputs": [
    {
     "name": "stdout",
     "output_type": "stream",
     "text": [
      "0\n",
      "1\n",
      "2\n",
      "3\n",
      "4\n",
      "5\n",
      "6\n",
      "7\n",
      "8\n",
      "9\n",
      "10\n",
      "11\n"
     ]
    }
   ],
   "source": [
    "learner = ClassificationAlgorithms()\n",
    "max_features = 12\n",
    "selected_features, ordered_features, ordered_scores = learner.forward_selection(\n",
    "    max_features=max_features, X_train=X_train, y_train=y_train\n",
    ")"
   ]
  },
  {
   "cell_type": "code",
   "execution_count": null,
   "metadata": {},
   "outputs": [],
   "source": [
    "selected_features"
   ]
  },
  {
   "cell_type": "code",
   "execution_count": 61,
   "metadata": {},
   "outputs": [
    {
     "data": {
      "text/plain": [
       "[0.9424062024089713,\n",
       " 0.987055240204901,\n",
       " 0.9975079606811574,\n",
       " 0.9995846601135262,\n",
       " 0.9998615533711754,\n",
       " 0.9999307766855877,\n",
       " 1.0,\n",
       " 1.0,\n",
       " 1.0,\n",
       " 1.0,\n",
       " 1.0,\n",
       " 1.0]"
      ]
     },
     "execution_count": 61,
     "metadata": {},
     "output_type": "execute_result"
    }
   ],
   "source": [
    "ordered_scores"
   ]
  },
  {
   "cell_type": "code",
   "execution_count": null,
   "metadata": {},
   "outputs": [],
   "source": [
    "plt.figure(figsize=(10, 5))\n",
    "plt.plot(np.arange(1, max_features + 1, 1), ordered_scores)\n",
    "plt.xlabel(\"Number of features\")\n",
    "plt.ylabel(\"Accuracy\")\n",
    "plt.xticks(np.arange(1, max_features + 1, 1))\n",
    "plt.show()"
   ]
  },
  {
   "cell_type": "code",
   "execution_count": 9,
   "metadata": {},
   "outputs": [],
   "source": [
    "selected_features = [\n",
    " 'acc_y_temp_mean_ws_35',\n",
    " 'acc_y_temp_std_ws_35',\n",
    " 'acc_x_temp_mean_ws_35',\n",
    " 'acc_z_temp_mean_ws_35',\n",
    " 'gyr_y_freq_0.0_Hz_ws_16'\n",
    " ]"
   ]
  },
  {
   "cell_type": "markdown",
   "metadata": {},
   "source": [
    "# 3. Huấn luyện mô hình"
   ]
  },
  {
   "cell_type": "markdown",
   "metadata": {},
   "source": [
    "## 3.1 Lựa chọn mô hình"
   ]
  },
  {
   "cell_type": "code",
   "execution_count": 10,
   "metadata": {},
   "outputs": [
    {
     "name": "stdout",
     "output_type": "stream",
     "text": [
      "Tập đặc trưng số 1:\n",
      "\tTraining neural network\n",
      "\tTraining random forest\n",
      "\tTraining KNN\n",
      "\tTraining decision tree\n",
      "\tTraining naive bayes\n",
      "Tập đặc trưng số 2:\n",
      "\tTraining neural network\n",
      "\tTraining random forest\n",
      "\tTraining KNN\n",
      "\tTraining decision tree\n",
      "\tTraining naive bayes\n",
      "Tập đặc trưng số 3:\n",
      "\tTraining neural network\n",
      "\tTraining random forest\n",
      "\tTraining KNN\n",
      "\tTraining decision tree\n",
      "\tTraining naive bayes\n"
     ]
    }
   ],
   "source": [
    "learner = ClassificationAlgorithms()\n",
    "score_df = pd.DataFrame()\n",
    "\n",
    "possible_feature_sets = [\n",
    "    feature_set_1,\n",
    "    feature_set_2,\n",
    "    selected_features\n",
    "]\n",
    "\n",
    "for i in range (len(possible_feature_sets)):\n",
    "    print(f'Tập đặc trưng số {i+1}:')\n",
    "    selected_train_X = X_train[possible_feature_sets[i]]\n",
    "    selected_test_X = X_test[possible_feature_sets[i]]\n",
    "\n",
    "\n",
    "    # First run non deterministic classifiers to average their score.\n",
    "    print(\"\\tTraining neural network\")\n",
    "    (\n",
    "        class_train_y,\n",
    "        class_test_y,\n",
    "        class_train_prob_y,\n",
    "        class_test_prob_y,\n",
    "        nn,\n",
    "    ) = learner.feedforward_neural_network(\n",
    "        selected_train_X,\n",
    "        y_train,\n",
    "        selected_test_X,\n",
    "        gridsearch=False,\n",
    "    )\n",
    "    acc_nn = accuracy_score(y_test, class_test_y)\n",
    "    p_nn = precision_score(y_test, class_test_y, average='macro')\n",
    "    r_nn = recall_score(y_test, class_test_y, average='macro')\n",
    "    f1_nn = f1_score(y_test, class_test_y, average='macro')\n",
    "\n",
    "    print(\"\\tTraining random forest\")\n",
    "    (\n",
    "        class_train_y,\n",
    "        class_test_y,\n",
    "        class_train_prob_y,\n",
    "        class_test_prob_y,\n",
    "        rf,\n",
    "    ) = learner.random_forest(\n",
    "        selected_train_X, \n",
    "        y_train, \n",
    "        selected_test_X, \n",
    "        gridsearch=True, \n",
    "    )\n",
    "    acc_rf = accuracy_score(y_test, class_test_y)\n",
    "    p_rf = precision_score(y_test, class_test_y, average='macro')\n",
    "    r_rf = recall_score(y_test, class_test_y, average='macro')\n",
    "    f1_rf = f1_score(y_test, class_test_y, average='macro')\n",
    "\n",
    "    # And we run our deterministic classifiers:\n",
    "    print(\"\\tTraining KNN\")\n",
    "    (\n",
    "        class_train_y,\n",
    "        class_test_y,\n",
    "        class_train_prob_y,\n",
    "        class_test_prob_y,\n",
    "        knn,\n",
    "    ) = learner.k_nearest_neighbor(\n",
    "        selected_train_X, \n",
    "        y_train, \n",
    "        selected_test_X, \n",
    "        gridsearch=True,\n",
    "    )\n",
    "    acc_knn = accuracy_score(y_test, class_test_y)\n",
    "    p_knn = precision_score(y_test, class_test_y, average='macro')\n",
    "    r_knn = recall_score(y_test, class_test_y, average='macro')\n",
    "    f1_knn = f1_score(y_test, class_test_y, average='macro')\n",
    "\n",
    "    print(\"\\tTraining decision tree\")\n",
    "    (\n",
    "        class_train_y,\n",
    "        class_test_y,\n",
    "        class_train_prob_y,\n",
    "        class_test_prob_y,\n",
    "        dtree,\n",
    "    ) = learner.decision_tree(\n",
    "        selected_train_X, \n",
    "        y_train, \n",
    "        selected_test_X, \n",
    "        gridsearch=True,\n",
    "    )\n",
    "    acc_dtree = accuracy_score(y_test, class_test_y)\n",
    "    p_dtree = precision_score(y_test, class_test_y, average='macro')\n",
    "    r_dtree = recall_score(y_test, class_test_y, average='macro')\n",
    "    f1_dtree = f1_score(y_test, class_test_y, average='macro')\n",
    "\n",
    "    print(\"\\tTraining naive bayes\")\n",
    "    (\n",
    "        class_train_y,\n",
    "        class_test_y,\n",
    "        class_train_prob_y,\n",
    "        class_test_prob_y,\n",
    "        nb,\n",
    "    ) = learner.naive_bayes(\n",
    "        selected_train_X, \n",
    "        y_train, \n",
    "        selected_test_X,\n",
    "        )\n",
    "    acc_nb = accuracy_score(y_test, class_test_y)\n",
    "    p_nb = precision_score(y_test, class_test_y, average='macro')\n",
    "    r_nb = recall_score(y_test, class_test_y, average='macro')\n",
    "    f1_nb = f1_score(y_test, class_test_y, average='macro')\n",
    "\n",
    "    # Save results to dataframe\n",
    "    models = [\"NN\", \"RF\", \"KNN\", \"DT\", \"NB\"]\n",
    "    new_scores = pd.DataFrame(\n",
    "        {\n",
    "            \"model\": models,\n",
    "            \"accuracy\": [\n",
    "                acc_nn,\n",
    "                acc_rf,\n",
    "                acc_knn,\n",
    "                acc_dtree,\n",
    "                acc_nb,\n",
    "            ],\n",
    "            \"precision\": [\n",
    "                p_nn,\n",
    "                p_rf,\n",
    "                p_knn,\n",
    "                p_dtree,\n",
    "                p_nb,\n",
    "            ],\n",
    "            \"recall\": [\n",
    "                r_nn,\n",
    "                r_rf,\n",
    "                r_knn,\n",
    "                r_dtree,\n",
    "                r_nb,\n",
    "            ],\n",
    "            \"f1 score\": [\n",
    "                f1_nn,\n",
    "                f1_rf,\n",
    "                f1_knn,\n",
    "                f1_dtree,\n",
    "                f1_nb,\n",
    "            ],\n",
    "        }\n",
    "    )\n",
    "    score_df = pd.concat([score_df, new_scores])"
   ]
  },
  {
   "cell_type": "code",
   "execution_count": 11,
   "metadata": {},
   "outputs": [
    {
     "data": {
      "text/html": [
       "<div>\n",
       "<style scoped>\n",
       "    .dataframe tbody tr th:only-of-type {\n",
       "        vertical-align: middle;\n",
       "    }\n",
       "\n",
       "    .dataframe tbody tr th {\n",
       "        vertical-align: top;\n",
       "    }\n",
       "\n",
       "    .dataframe thead th {\n",
       "        text-align: right;\n",
       "    }\n",
       "</style>\n",
       "<table border=\"1\" class=\"dataframe\">\n",
       "  <thead>\n",
       "    <tr style=\"text-align: right;\">\n",
       "      <th></th>\n",
       "      <th>model</th>\n",
       "      <th>accuracy</th>\n",
       "      <th>precision</th>\n",
       "      <th>recall</th>\n",
       "      <th>f1 score</th>\n",
       "    </tr>\n",
       "  </thead>\n",
       "  <tbody>\n",
       "    <tr>\n",
       "      <th>0</th>\n",
       "      <td>NN</td>\n",
       "      <td>0.938953</td>\n",
       "      <td>0.941432</td>\n",
       "      <td>0.940412</td>\n",
       "      <td>0.940822</td>\n",
       "    </tr>\n",
       "    <tr>\n",
       "      <th>1</th>\n",
       "      <td>RF</td>\n",
       "      <td>0.969477</td>\n",
       "      <td>0.970332</td>\n",
       "      <td>0.971176</td>\n",
       "      <td>0.970618</td>\n",
       "    </tr>\n",
       "    <tr>\n",
       "      <th>2</th>\n",
       "      <td>KNN</td>\n",
       "      <td>0.840532</td>\n",
       "      <td>0.844605</td>\n",
       "      <td>0.849860</td>\n",
       "      <td>0.845888</td>\n",
       "    </tr>\n",
       "    <tr>\n",
       "      <th>3</th>\n",
       "      <td>DT</td>\n",
       "      <td>0.949751</td>\n",
       "      <td>0.951848</td>\n",
       "      <td>0.951581</td>\n",
       "      <td>0.951629</td>\n",
       "    </tr>\n",
       "    <tr>\n",
       "      <th>4</th>\n",
       "      <td>NB</td>\n",
       "      <td>0.823297</td>\n",
       "      <td>0.830519</td>\n",
       "      <td>0.822069</td>\n",
       "      <td>0.820517</td>\n",
       "    </tr>\n",
       "    <tr>\n",
       "      <th>0</th>\n",
       "      <td>NN</td>\n",
       "      <td>0.992317</td>\n",
       "      <td>0.992569</td>\n",
       "      <td>0.992857</td>\n",
       "      <td>0.992701</td>\n",
       "    </tr>\n",
       "    <tr>\n",
       "      <th>1</th>\n",
       "      <td>RF</td>\n",
       "      <td>0.997093</td>\n",
       "      <td>0.997344</td>\n",
       "      <td>0.997320</td>\n",
       "      <td>0.997316</td>\n",
       "    </tr>\n",
       "    <tr>\n",
       "      <th>2</th>\n",
       "      <td>KNN</td>\n",
       "      <td>0.983804</td>\n",
       "      <td>0.984390</td>\n",
       "      <td>0.984898</td>\n",
       "      <td>0.984544</td>\n",
       "    </tr>\n",
       "    <tr>\n",
       "      <th>3</th>\n",
       "      <td>DT</td>\n",
       "      <td>0.998339</td>\n",
       "      <td>0.998472</td>\n",
       "      <td>0.998469</td>\n",
       "      <td>0.998467</td>\n",
       "    </tr>\n",
       "    <tr>\n",
       "      <th>4</th>\n",
       "      <td>NB</td>\n",
       "      <td>0.956395</td>\n",
       "      <td>0.958460</td>\n",
       "      <td>0.959254</td>\n",
       "      <td>0.958777</td>\n",
       "    </tr>\n",
       "    <tr>\n",
       "      <th>0</th>\n",
       "      <td>NN</td>\n",
       "      <td>0.979651</td>\n",
       "      <td>0.980924</td>\n",
       "      <td>0.981069</td>\n",
       "      <td>0.980913</td>\n",
       "    </tr>\n",
       "    <tr>\n",
       "      <th>1</th>\n",
       "      <td>RF</td>\n",
       "      <td>0.994809</td>\n",
       "      <td>0.995209</td>\n",
       "      <td>0.995209</td>\n",
       "      <td>0.995208</td>\n",
       "    </tr>\n",
       "    <tr>\n",
       "      <th>2</th>\n",
       "      <td>KNN</td>\n",
       "      <td>0.929194</td>\n",
       "      <td>0.930816</td>\n",
       "      <td>0.931792</td>\n",
       "      <td>0.931256</td>\n",
       "    </tr>\n",
       "    <tr>\n",
       "      <th>3</th>\n",
       "      <td>DT</td>\n",
       "      <td>0.995017</td>\n",
       "      <td>0.995400</td>\n",
       "      <td>0.995400</td>\n",
       "      <td>0.995400</td>\n",
       "    </tr>\n",
       "    <tr>\n",
       "      <th>4</th>\n",
       "      <td>NB</td>\n",
       "      <td>0.950997</td>\n",
       "      <td>0.955014</td>\n",
       "      <td>0.954350</td>\n",
       "      <td>0.953742</td>\n",
       "    </tr>\n",
       "  </tbody>\n",
       "</table>\n",
       "</div>"
      ],
      "text/plain": [
       "  model  accuracy  precision    recall  f1 score\n",
       "0    NN  0.938953   0.941432  0.940412  0.940822\n",
       "1    RF  0.969477   0.970332  0.971176  0.970618\n",
       "2   KNN  0.840532   0.844605  0.849860  0.845888\n",
       "3    DT  0.949751   0.951848  0.951581  0.951629\n",
       "4    NB  0.823297   0.830519  0.822069  0.820517\n",
       "0    NN  0.992317   0.992569  0.992857  0.992701\n",
       "1    RF  0.997093   0.997344  0.997320  0.997316\n",
       "2   KNN  0.983804   0.984390  0.984898  0.984544\n",
       "3    DT  0.998339   0.998472  0.998469  0.998467\n",
       "4    NB  0.956395   0.958460  0.959254  0.958777\n",
       "0    NN  0.979651   0.980924  0.981069  0.980913\n",
       "1    RF  0.994809   0.995209  0.995209  0.995208\n",
       "2   KNN  0.929194   0.930816  0.931792  0.931256\n",
       "3    DT  0.995017   0.995400  0.995400  0.995400\n",
       "4    NB  0.950997   0.955014  0.954350  0.953742"
      ]
     },
     "execution_count": 11,
     "metadata": {},
     "output_type": "execute_result"
    }
   ],
   "source": [
    "score_df"
   ]
  },
  {
   "cell_type": "code",
   "execution_count": 16,
   "metadata": {},
   "outputs": [
    {
     "data": {
      "image/png": "[encoded data removed]",
      "text/plain": [
       "<Figure size 1000x500 with 1 Axes>"
      ]
     },
     "metadata": {},
     "output_type": "display_data"
    }
   ],
   "source": [
    "participant_df = df.drop([\"set\", \"category\"], axis=1)\n",
    "\n",
    "X_train = participant_df[participant_df[\"participant\"] != \"E\"].drop(\"label\", axis=1)\n",
    "y_train = participant_df[participant_df[\"participant\"] != \"E\"][\"label\"]\n",
    "\n",
    "X_test = participant_df[participant_df[\"participant\"] == \"E\"].drop(\"label\", axis=1)\n",
    "y_test = participant_df[participant_df[\"participant\"] == \"E\"][\"label\"]\n",
    "\n",
    "X_train = X_train.drop([\"participant\"], axis=1)\n",
    "X_test = X_test.drop([\"participant\"], axis=1)\n",
    "\n",
    "fig, ax = plt.subplots(figsize=(10, 5))\n",
    "df_train[\"label\"].value_counts().plot(\n",
    "    kind=\"bar\", ax=ax, color=\"lightblue\", label=\"Total\"\n",
    ")\n",
    "y_train.value_counts().plot(kind=\"bar\", ax=ax, color=\"dodgerblue\", label=\"Train\")\n",
    "y_test.value_counts().plot(kind=\"bar\", ax=ax, color=\"royalblue\", label=\"Test\")\n",
    "plt.legend()\n",
    "plt.show()"
   ]
  },
  {
   "cell_type": "code",
   "execution_count": 17,
   "metadata": {},
   "outputs": [
    {
     "name": "stdout",
     "output_type": "stream",
     "text": [
      "Model saved to D:\\\\Project1\\\\tracking-barbell-exercises\\\\models\\\\random_forest.joblib\n"
     ]
    },
    {
     "data": {
      "image/png": "[encoded data removed]",
      "text/plain": [
       "<Figure size 1000x1000 with 2 Axes>"
      ]
     },
     "metadata": {},
     "output_type": "display_data"
    }
   ],
   "source": [
    "(\n",
    "    class_train_y,\n",
    "    class_test_y,\n",
    "    class_train_prob_y,\n",
    "    class_test_prob_y,\n",
    "    rf,\n",
    ") = learner.random_forest(\n",
    "    X_train[selected_features], \n",
    "    y_train, \n",
    "    X_test[selected_features], \n",
    "    gridsearch=True,\n",
    "    model_save_path=r\"D:\\\\Project1\\\\tracking-barbell-exercises\\\\models\\\\random_forest.joblib\",\n",
    ")\n",
    "\n",
    "accuracy = accuracy_score(y_test, class_test_y)\n",
    "precision = precision_score(y_test, class_test_y, average='macro')\n",
    "recall = recall_score(y_test, class_test_y, average='macro')\n",
    "f1 = f1_score(y_test, class_test_y, average='macro')\n",
    "\n",
    "classes = class_test_prob_y.columns\n",
    "cm = confusion_matrix(y_test, class_test_y, labels=classes)\n",
    "\n",
    "# create confusion matrix for cm\n",
    "plt.figure(figsize=(10, 10))\n",
    "plt.imshow(cm, interpolation=\"nearest\", cmap=plt.cm.Blues)\n",
    "plt.title(\"Confusion matrix\")\n",
    "plt.colorbar()\n",
    "tick_marks = np.arange(len(classes))\n",
    "plt.xticks(tick_marks, classes, rotation=45)\n",
    "plt.yticks(tick_marks, classes)\n",
    "\n",
    "thresh = cm.max() / 2.0\n",
    "for i, j in itertools.product(range(cm.shape[0]), range(cm.shape[1])):\n",
    "    plt.text(\n",
    "        j,\n",
    "        i,\n",
    "        format(cm[i, j]),\n",
    "        horizontalalignment=\"center\",\n",
    "        color=\"white\" if cm[i, j] > thresh else \"black\",\n",
    "    )\n",
    "plt.ylabel(\"True label\")\n",
    "plt.xlabel(\"Predicted label\")\n",
    "plt.grid(False)\n",
    "plt.show()"
   ]
  },
  {
   "cell_type": "code",
   "execution_count": 18,
   "metadata": {},
   "outputs": [
    {
     "data": {
      "text/plain": [
       "[0.9978749778643528, 0.9978893984663467, 0.998512874658891, 0.9981983606219006]"
      ]
     },
     "execution_count": 18,
     "metadata": {},
     "output_type": "execute_result"
    }
   ],
   "source": [
    "score = [accuracy, precision, recall, f1]\n",
    "score"
   ]
  }
 ],
 "metadata": {
  "kernelspec": {
   "display_name": "tracking-barbell-exercises",
   "language": "python",
   "name": "python3"
  },
  "language_info": {
   "codemirror_mode": {
    "name": "ipython",
    "version": 3
   },
   "file_extension": ".py",
   "mimetype": "text/x-python",
   "name": "python",
   "nbconvert_exporter": "python",
   "pygments_lexer": "ipython3",
   "version": "3.8.15"
  }
 },
 "nbformat": 4,
 "nbformat_minor": 2
}
